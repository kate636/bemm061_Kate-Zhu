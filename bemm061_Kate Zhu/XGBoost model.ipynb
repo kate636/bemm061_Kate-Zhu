{
 "cells": [
  {
   "cell_type": "code",
   "execution_count": 3,
   "metadata": {},
   "outputs": [],
   "source": [
    "import pandas as pd\n",
    "from sklearn.preprocessing import MinMaxScaler\n",
    "import pandas as pd\n",
    "from sklearn.model_selection import train_test_split\n",
    "from sklearn.metrics import accuracy_score, confusion_matrix\n",
    "from xgboost import XGBClassifier\n",
    "import seaborn as sns\n",
    "sns.set_style('white')"
   ]
  },
  {
   "cell_type": "code",
   "execution_count": 40,
   "metadata": {},
   "outputs": [],
   "source": [
    "features = ['loan_amnt', 'annual_inc', 'term','funded_amnt','int_rate','installment','dti','delinq_2yrs','revol_bal','total_acc','total_pymnt']"
   ]
  },
  {
   "cell_type": "code",
   "execution_count": 41,
   "metadata": {},
   "outputs": [
    {
     "data": {
      "text/plain": "         loan_amnt  funded_amnt        term  int_rate  installment  \\\n0           3600.0       3600.0   36 months     13.99       123.03   \n1          24700.0      24700.0   36 months     11.99       820.28   \n2          20000.0      20000.0   60 months     10.78       432.66   \n3          35000.0      35000.0   60 months     14.85       829.90   \n4          10400.0      10400.0   60 months     22.45       289.91   \n...            ...          ...         ...       ...          ...   \n2260696    40000.0      40000.0   60 months     10.49       859.56   \n2260697    24000.0      24000.0   60 months     14.49       564.56   \n2260698    14000.0      14000.0   60 months     14.49       329.33   \n2260699        NaN          NaN         NaN       NaN          NaN   \n2260700        NaN          NaN         NaN       NaN          NaN   \n\n         annual_inc  loan_status    dti  delinq_2yrs  revol_bal  total_acc  \\\n0           55000.0   Fully Paid   5.91          0.0     2765.0       13.0   \n1           65000.0   Fully Paid  16.06          1.0    21470.0       38.0   \n2           63000.0   Fully Paid  10.78          0.0     7869.0       18.0   \n3          110000.0      Current  17.06          0.0     7802.0       17.0   \n4          104433.0   Fully Paid  25.37          1.0    21929.0       35.0   \n...             ...          ...    ...          ...        ...        ...   \n2260696    227000.0      Current  12.75          7.0     8633.0       37.0   \n2260697    110000.0  Charged Off  18.30          0.0    17641.0       31.0   \n2260698     95000.0      Current  23.36          0.0     7662.0       22.0   \n2260699         NaN          NaN    NaN          NaN        NaN        NaN   \n2260700         NaN          NaN    NaN          NaN        NaN        NaN   \n\n          total_pymnt  \n0         4421.723917  \n1        25679.660000  \n2        22705.924294  \n3        31464.010000  \n4        11740.500000  \n...               ...  \n2260696  24903.930000  \n2260697   6755.400000  \n2260698   9621.250000  \n2260699           NaN  \n2260700           NaN  \n\n[2260701 rows x 12 columns]",
      "text/html": "<div>\n<style scoped>\n    .dataframe tbody tr th:only-of-type {\n        vertical-align: middle;\n    }\n\n    .dataframe tbody tr th {\n        vertical-align: top;\n    }\n\n    .dataframe thead th {\n        text-align: right;\n    }\n</style>\n<table border=\"1\" class=\"dataframe\">\n  <thead>\n    <tr style=\"text-align: right;\">\n      <th></th>\n      <th>loan_amnt</th>\n      <th>funded_amnt</th>\n      <th>term</th>\n      <th>int_rate</th>\n      <th>installment</th>\n      <th>annual_inc</th>\n      <th>loan_status</th>\n      <th>dti</th>\n      <th>delinq_2yrs</th>\n      <th>revol_bal</th>\n      <th>total_acc</th>\n      <th>total_pymnt</th>\n    </tr>\n  </thead>\n  <tbody>\n    <tr>\n      <th>0</th>\n      <td>3600.0</td>\n      <td>3600.0</td>\n      <td>36 months</td>\n      <td>13.99</td>\n      <td>123.03</td>\n      <td>55000.0</td>\n      <td>Fully Paid</td>\n      <td>5.91</td>\n      <td>0.0</td>\n      <td>2765.0</td>\n      <td>13.0</td>\n      <td>4421.723917</td>\n    </tr>\n    <tr>\n      <th>1</th>\n      <td>24700.0</td>\n      <td>24700.0</td>\n      <td>36 months</td>\n      <td>11.99</td>\n      <td>820.28</td>\n      <td>65000.0</td>\n      <td>Fully Paid</td>\n      <td>16.06</td>\n      <td>1.0</td>\n      <td>21470.0</td>\n      <td>38.0</td>\n      <td>25679.660000</td>\n    </tr>\n    <tr>\n      <th>2</th>\n      <td>20000.0</td>\n      <td>20000.0</td>\n      <td>60 months</td>\n      <td>10.78</td>\n      <td>432.66</td>\n      <td>63000.0</td>\n      <td>Fully Paid</td>\n      <td>10.78</td>\n      <td>0.0</td>\n      <td>7869.0</td>\n      <td>18.0</td>\n      <td>22705.924294</td>\n    </tr>\n    <tr>\n      <th>3</th>\n      <td>35000.0</td>\n      <td>35000.0</td>\n      <td>60 months</td>\n      <td>14.85</td>\n      <td>829.90</td>\n      <td>110000.0</td>\n      <td>Current</td>\n      <td>17.06</td>\n      <td>0.0</td>\n      <td>7802.0</td>\n      <td>17.0</td>\n      <td>31464.010000</td>\n    </tr>\n    <tr>\n      <th>4</th>\n      <td>10400.0</td>\n      <td>10400.0</td>\n      <td>60 months</td>\n      <td>22.45</td>\n      <td>289.91</td>\n      <td>104433.0</td>\n      <td>Fully Paid</td>\n      <td>25.37</td>\n      <td>1.0</td>\n      <td>21929.0</td>\n      <td>35.0</td>\n      <td>11740.500000</td>\n    </tr>\n    <tr>\n      <th>...</th>\n      <td>...</td>\n      <td>...</td>\n      <td>...</td>\n      <td>...</td>\n      <td>...</td>\n      <td>...</td>\n      <td>...</td>\n      <td>...</td>\n      <td>...</td>\n      <td>...</td>\n      <td>...</td>\n      <td>...</td>\n    </tr>\n    <tr>\n      <th>2260696</th>\n      <td>40000.0</td>\n      <td>40000.0</td>\n      <td>60 months</td>\n      <td>10.49</td>\n      <td>859.56</td>\n      <td>227000.0</td>\n      <td>Current</td>\n      <td>12.75</td>\n      <td>7.0</td>\n      <td>8633.0</td>\n      <td>37.0</td>\n      <td>24903.930000</td>\n    </tr>\n    <tr>\n      <th>2260697</th>\n      <td>24000.0</td>\n      <td>24000.0</td>\n      <td>60 months</td>\n      <td>14.49</td>\n      <td>564.56</td>\n      <td>110000.0</td>\n      <td>Charged Off</td>\n      <td>18.30</td>\n      <td>0.0</td>\n      <td>17641.0</td>\n      <td>31.0</td>\n      <td>6755.400000</td>\n    </tr>\n    <tr>\n      <th>2260698</th>\n      <td>14000.0</td>\n      <td>14000.0</td>\n      <td>60 months</td>\n      <td>14.49</td>\n      <td>329.33</td>\n      <td>95000.0</td>\n      <td>Current</td>\n      <td>23.36</td>\n      <td>0.0</td>\n      <td>7662.0</td>\n      <td>22.0</td>\n      <td>9621.250000</td>\n    </tr>\n    <tr>\n      <th>2260699</th>\n      <td>NaN</td>\n      <td>NaN</td>\n      <td>NaN</td>\n      <td>NaN</td>\n      <td>NaN</td>\n      <td>NaN</td>\n      <td>NaN</td>\n      <td>NaN</td>\n      <td>NaN</td>\n      <td>NaN</td>\n      <td>NaN</td>\n      <td>NaN</td>\n    </tr>\n    <tr>\n      <th>2260700</th>\n      <td>NaN</td>\n      <td>NaN</td>\n      <td>NaN</td>\n      <td>NaN</td>\n      <td>NaN</td>\n      <td>NaN</td>\n      <td>NaN</td>\n      <td>NaN</td>\n      <td>NaN</td>\n      <td>NaN</td>\n      <td>NaN</td>\n      <td>NaN</td>\n    </tr>\n  </tbody>\n</table>\n<p>2260701 rows × 12 columns</p>\n</div>"
     },
     "execution_count": 41,
     "metadata": {},
     "output_type": "execute_result"
    }
   ],
   "source": [
    "a = pd.read_csv('accepted_2007_to_2018Q4.csv', usecols=features+['loan_status'])\n",
    "a"
   ]
  },
  {
   "cell_type": "code",
   "execution_count": 42,
   "metadata": {},
   "outputs": [],
   "source": [
    "full_set = a.query(\"loan_status in ('Fully Paid', 'Charged Off')\").copy()"
   ]
  },
  {
   "cell_type": "code",
   "execution_count": 43,
   "metadata": {},
   "outputs": [],
   "source": [
    "full_set['loan_status'] = full_set['loan_status'].replace(\n",
    "    {\n",
    "        'Fully Paid': 1,\n",
    "        'Charged Off': 0\n",
    "    }\n",
    ")\n",
    "\n",
    "full_set['term'] = full_set['term'].replace(\n",
    "    {\n",
    "        ' 36 months': 36,\n",
    "        ' 60 months': 60\n",
    "    }\n",
    ")"
   ]
  },
  {
   "cell_type": "code",
   "execution_count": 44,
   "metadata": {},
   "outputs": [
    {
     "data": {
      "text/plain": "MinMaxScaler(feature_range=         loan_amnt  funded_amnt  term  int_rate  installment  annual_inc  \\\n0           3600.0       3600.0    36     13.99       123.03     55000.0   \n1          24700.0      24700.0    36     11.99       820.28     65000.0   \n2          20000.0      20000.0    60     10.78       432.66     63000.0   \n4          10400.0      10400.0    60     22.45       289.91    104433.0   \n5          11950.0      11950.0    36     13.44       405.18     34000.0   \n...            ...          ...   ...       ...          ...         ...   \n2260688    18000.0      18000.0    60      9.49       377.95    130000.0   \n2260690    29400.0      29400.0    60     13.99       683.9...\n1                  1  16.06          1.0    21470.0       38.0  25679.660000  \n2                  1  10.78          0.0     7869.0       18.0  22705.924294  \n4                  1  25.37          1.0    21929.0       35.0  11740.500000  \n5                  1  10.20          0.0     8822.0        6.0  13708.948530  \n...              ...    ...          ...        ...        ...           ...  \n2260688            1  20.59          0.0    23833.0       39.0  20756.233632  \n2260690            1  22.03          0.0    77480.0       32.0  35848.764532  \n2260691            0  10.34          0.0   111598.0       18.0   3737.940000  \n2260692            1  12.25          0.0     7700.0       28.0  18660.607569  \n2260697            0  18.30          0.0    17641.0       31.0   6755.400000  \n\n[1345310 rows x 12 columns])"
     },
     "execution_count": 44,
     "metadata": {},
     "output_type": "execute_result"
    }
   ],
   "source": [
    "MinMaxScaler(full_set)"
   ]
  },
  {
   "cell_type": "code",
   "execution_count": 45,
   "metadata": {},
   "outputs": [],
   "source": [
    "model_features = list(full_set.columns)\n",
    "model_features.remove('loan_status')"
   ]
  },
  {
   "cell_type": "code",
   "execution_count": 46,
   "metadata": {},
   "outputs": [
    {
     "name": "stdout",
     "output_type": "stream",
     "text": [
      "<class 'pandas.core.frame.DataFrame'>\n",
      "Int64Index: 1345310 entries, 0 to 2260697\n",
      "Data columns (total 12 columns):\n",
      " #   Column       Non-Null Count    Dtype  \n",
      "---  ------       --------------    -----  \n",
      " 0   loan_amnt    1345310 non-null  float64\n",
      " 1   funded_amnt  1345310 non-null  float64\n",
      " 2   term         1345310 non-null  int64  \n",
      " 3   int_rate     1345310 non-null  float64\n",
      " 4   installment  1345310 non-null  float64\n",
      " 5   annual_inc   1345310 non-null  float64\n",
      " 6   loan_status  1345310 non-null  int64  \n",
      " 7   dti          1344936 non-null  float64\n",
      " 8   delinq_2yrs  1345310 non-null  float64\n",
      " 9   revol_bal    1345310 non-null  float64\n",
      " 10  total_acc    1345310 non-null  float64\n",
      " 11  total_pymnt  1345310 non-null  float64\n",
      "dtypes: float64(10), int64(2)\n",
      "memory usage: 133.4 MB\n"
     ]
    }
   ],
   "source": [
    "full_set.info()"
   ]
  },
  {
   "cell_type": "code",
   "execution_count": 55,
   "metadata": {},
   "outputs": [
    {
     "name": "stderr",
     "output_type": "stream",
     "text": [
      "/Users/zhukate/opt/anaconda3/envs/py39/lib/python3.9/site-packages/xgboost/sklearn.py:1224: UserWarning: The use of label encoder in XGBClassifier is deprecated and will be removed in a future release. To remove this warning, do the following: 1) Pass option use_label_encoder=False when constructing XGBClassifier object; and 2) Encode your labels (y) as integers starting with 0, i.e. 0, 1, 2, ..., [num_class - 1].\n",
      "  warnings.warn(label_encoder_deprecation_msg, UserWarning)\n",
      "/Users/zhukate/opt/anaconda3/envs/py39/lib/python3.9/site-packages/xgboost/data.py:250: FutureWarning: pandas.Int64Index is deprecated and will be removed from pandas in a future version. Use pandas.Index with the appropriate dtype instead.\n",
      "  elif isinstance(data.columns, (pd.Int64Index, pd.RangeIndex)):\n"
     ]
    },
    {
     "name": "stdout",
     "output_type": "stream",
     "text": [
      "[07:35:23] WARNING: /var/folders/sy/f16zz6x50xz3113nwtb9bvq00000gp/T/abs_44tbtwf8c1/croots/recipe/xgboost-split_1659548960882/work/src/learner.cc:1115: Starting in XGBoost 1.3.0, the default evaluation metric used with the objective 'binary:logistic' was changed from 'error' to 'logloss'. Explicitly set eval_metric if you'd like to restore the old behavior.\n"
     ]
    },
    {
     "data": {
      "text/plain": "   Model Result   Models\n0      0.933183  XGBoost",
      "text/html": "<div>\n<style scoped>\n    .dataframe tbody tr th:only-of-type {\n        vertical-align: middle;\n    }\n\n    .dataframe tbody tr th {\n        vertical-align: top;\n    }\n\n    .dataframe thead th {\n        text-align: right;\n    }\n</style>\n<table border=\"1\" class=\"dataframe\">\n  <thead>\n    <tr style=\"text-align: right;\">\n      <th></th>\n      <th>Model Result</th>\n      <th>Models</th>\n    </tr>\n  </thead>\n  <tbody>\n    <tr>\n      <th>0</th>\n      <td>0.933183</td>\n      <td>XGBoost</td>\n    </tr>\n  </tbody>\n</table>\n</div>"
     },
     "execution_count": 55,
     "metadata": {},
     "output_type": "execute_result"
    }
   ],
   "source": [
    "X = full_set[model_features]\n",
    "y = full_set['loan_status']\n",
    "X_train, X_test, y_train, y_test = train_test_split(X, y, test_size = 0.2, random_state = 2)\n",
    "\n",
    "\n",
    "# model accuracy\n",
    "result = []\n",
    "\n",
    "XGB = XGBClassifier(max_depth = 1)\n",
    "XGB.fit(X_train, y_train)\n",
    "y_pred_xgb = XGB.predict(X_test)\n",
    "cm_xgb = confusion_matrix(y_pred_xgb, y_test)\n",
    "acc_xgb = accuracy_score(y_test, y_pred_xgb)\n",
    "result.append(acc_xgb)\n",
    "\n",
    "results = pd.DataFrame({\"Model Result\": result,\n",
    "                        \"Models\": [\"XGBoost\"]})\n",
    "results\n"
   ]
  },
  {
   "cell_type": "markdown",
   "source": [
    "\n"
   ],
   "metadata": {
    "collapsed": false
   }
  },
  {
   "cell_type": "code",
   "execution_count": null,
   "outputs": [],
   "source": [],
   "metadata": {
    "collapsed": false
   }
  }
 ],
 "metadata": {
  "kernelspec": {
   "display_name": "Python 3 (ipykernel)",
   "language": "python",
   "name": "python3"
  },
  "language_info": {
   "codemirror_mode": {
    "name": "ipython",
    "version": 3
   },
   "file_extension": ".py",
   "mimetype": "text/x-python",
   "name": "python",
   "nbconvert_exporter": "python",
   "pygments_lexer": "ipython3",
   "version": "3.9.13"
  }
 },
 "nbformat": 4,
 "nbformat_minor": 4
}
